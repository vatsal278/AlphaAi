{
 "cells": [
  {
   "cell_type": "code",
   "execution_count": 7,
   "metadata": {},
   "outputs": [
    {
     "name": "stderr",
     "output_type": "stream",
     "text": [
      "[nltk_data] Downloading package punkt to\n",
      "[nltk_data]     C:\\Users\\vatsa\\AppData\\Roaming\\nltk_data...\n",
      "[nltk_data]   Package punkt is already up-to-date!\n",
      "[nltk_data] Downloading package stopwords to\n",
      "[nltk_data]     C:\\Users\\vatsa\\AppData\\Roaming\\nltk_data...\n",
      "[nltk_data]   Package stopwords is already up-to-date!\n"
     ]
    },
    {
     "data": {
      "text/plain": [
       "True"
      ]
     },
     "execution_count": 7,
     "metadata": {},
     "output_type": "execute_result"
    }
   ],
   "source": [
    "from nltk.corpus import stopwords\n",
    "from nltk.tokenize import word_tokenize\n",
    "import numpy as np\n",
    "import nltk\n",
    "nltk.download('punkt')\n",
    "nltk.download('stopwords')\n"
   ]
  },
  {
   "cell_type": "code",
   "execution_count": 8,
   "metadata": {},
   "outputs": [],
   "source": [
    "def process(file):\n",
    "    raw=open(file ).read()\n",
    "    tokens=word_tokenize(raw)\n",
    "    words=[w.lower() for w in tokens]\n",
    "    \n",
    "    porter =nltk.PorterStemmer()\n",
    "    stemmed_tokens=[porter.stem(t) for t in words]\n",
    "    \n",
    "    stop_words=set(stopwords.words('english'))\n",
    "    filtered_tokens=[w for w in stemmed_tokens if not w in stop_words]\n",
    "    \n",
    "    count=nltk.defaultdict(int)\n",
    "    for word in filtered_tokens:\n",
    "        count[word] +=1\n",
    "    return count;\n",
    "\n",
    "def cos_sim(a,b):\n",
    "    dot_product=np.dot(a,b)\n",
    "    norm_a=np.linalg.norm(a)\n",
    "    norm_b=np.linalg.norm(b)\n",
    "    return dot_product / (norm_a * norm_b)\n",
    "\n",
    "def getSimilarity(dict1,dict2):\n",
    "    all_words_list=[]\n",
    "    for key in dict1:\n",
    "        all_words_list.append(key)\n",
    "    for key in dict2:\n",
    "        all_words_list.append(key) \n",
    "    all_words_list_size=len(all_words_list)\n",
    "    \n",
    "    v1=np.zeros(all_words_list_size, dtype=np.int)\n",
    "    v2=np.zeros(all_words_list_size, dtype=np.int)\n",
    "    i=0\n",
    "    for (key) in all_words_list:\n",
    "        v1[i]=dict1.get(key,0)\n",
    "        v2[i]=dict2.get(key,0)\n",
    "        i=i+1\n",
    "    return cos_sim(v1,v2);"
   ]
  },
  {
   "cell_type": "code",
   "execution_count": 9,
   "metadata": {},
   "outputs": [
    {
     "name": "stdout",
     "output_type": "stream",
     "text": [
      "similarity between the blogs is 0.7556190976393699\n"
     ]
    }
   ],
   "source": [
    "if __name__ == '__main__':\n",
    "    dict1=process(\"AlphaAi/nlp/blog1.txt\")\n",
    "    dict2=process(\"AlphaAi/nlp/blog2.txt\")\n",
    "    print(\"similarity between the blogs is\",getSimilarity(dict1,dict2))"
   ]
  },
  {
   "cell_type": "code",
   "execution_count": null,
   "metadata": {},
   "outputs": [],
   "source": []
  }
 ],
 "metadata": {
  "kernelspec": {
   "display_name": "Python 3",
   "language": "python",
   "name": "python3"
  },
  "language_info": {
   "codemirror_mode": {
    "name": "ipython",
    "version": 3
   },
   "file_extension": ".py",
   "mimetype": "text/x-python",
   "name": "python",
   "nbconvert_exporter": "python",
   "pygments_lexer": "ipython3",
   "version": "3.8.5"
  }
 },
 "nbformat": 4,
 "nbformat_minor": 4
}
